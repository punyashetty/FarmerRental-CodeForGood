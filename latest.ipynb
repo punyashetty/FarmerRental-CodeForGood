{
 "cells": [
  {
   "cell_type": "code",
   "execution_count": 1,
   "metadata": {},
   "outputs": [],
   "source": [
    "from flask import Flask\n",
    "app = Flask(__name__)\n",
    "\n",
    "@app.route(\"/\")\n",
    "def hello():\n",
    "    return \"Hello World!\""
   ]
  },
  {
   "cell_type": "code",
   "execution_count": 2,
   "metadata": {},
   "outputs": [],
   "source": [
    "import pandas as pd\n",
    "import numpy as np\n",
    "import matplotlib.pyplot as plt\n",
    "import firebase_admin \n",
    "import gmplot\n",
    "from firebase_admin import credentials,firestore\n",
    "from firebase_admin import db\n",
    "cred = credentials.Certificate('./team5-6ba3b-firebase-adminsdk-cukqn-ed12ccb9a0.json')\n",
    "default_app = firebase_admin.initialize_app(cred,{'databaseURL':'https://team5-6ba3b.firebaseio.com'})\n",
    "db = firestore.client()"
   ]
  },
  {
   "cell_type": "code",
   "execution_count": 3,
   "metadata": {},
   "outputs": [],
   "source": [
    "@app.route('/approve', methods=['GET'])\n",
    "def approve():\n",
    "    #access database,i.e, run query to get pending approvals and display them based on the priority list:\n",
    "    '''\n",
    "    user enters id,machine,count,start,end,operator,priority\n",
    "    \n",
    "    run a query to get booking id and sort according to the priority\n",
    "    for each level in priority in decreasing order:\n",
    "        if query with inventory shows no records of the machine, go to next machine\n",
    "        if machine in inventory, then display the available one\n",
    "        if all machine occupied in the priority, show error\n",
    "    '''\n",
    "    booking = pd.DataFrame({\"id\":'1',\"machine\":\"A\",\"count\":3,\"start\":\"12/03/18\",\"end\":\"27/03/18\",\"operator\":True,\"priority\":1}).head(0)\n",
    "    machines = pd.merge(Centre,machine_table,on=['Mech_id'],how='inner')\n",
    "    available = machines[machines.Status == 'N']\n",
    "    if available[available.Description == boooking.machine].shape[0] >= booking.count:\n",
    "        x = available[available.Description == boooking.machine]\n",
    "        #update x.machine_id status to 'U'\n",
    "    \n",
    "@app.route('/finished_using', methods =['GET'])\n",
    "def finished_using():\n",
    "    '''\n",
    "    Update the database of inventories and increment the count of the machine returned in the inventory and remove for the used database\n",
    "    \n",
    "    '''\n",
    "@app.route('/request_analysis',methods = ['GET'])\n",
    "def funct():\n",
    "    '''\n",
    "    query the database and get all the tables\n",
    "    machine wise analytics, go to history of the usage database\n",
    "    do a bar chart for a hobli, the machine and its count\n",
    "    \n",
    "    heat map of the currently used machines\n",
    "    '''\n",
    "    machine_table = db.collection(u'machine').get()\n",
    "    machine_table = [doc.to_dict() for doc in machine_table]\n",
    "    machine_table = pd.DataFrame(machine_table)\n",
    "    #machine_table = pd.DataFrame({\"Mech_id\":[1,2,3,4,5,6],\"Description\":[\"A\",\"B\",\"C\",\"D\",\"E\",\"E\"]})\n",
    "   \n",
    "    State = db.collection(u'state').get()\n",
    "    State = [doc.to_dict() for doc in State]\n",
    "    State = pd.DataFrame(State)\n",
    "    #State = pd.DataFrame({\"State_id\":[1,1,2,2],\"Centre_id\":[5,6,7,8],\"State_name\":[\"A\",\"A\",\"B\",\"B\"]})\n",
    "    \n",
    "    Centre = db.collection(u'hobli').get()\n",
    "    Centre = [doc.to_dict() for doc in Centre]\n",
    "    Centre = pd.DataFrame(Centre)\n",
    "\n",
    "    #Centre = pd.DataFrame({\"Centre_id\":[5,6,7,8,8,8],\"Centre\":[\"AA\",\"BB\",\"CC\",\"DD\",\"DD\",\"DD\"],\"Mech_id\":[1,2,3,4,5,6],\"Status\":['U','N','U','N','U','N']})\n",
    "    \n",
    "    machines = pd.merge(Centre,machine_table,on=['machine_id'],how='inner')\n",
    "    \n",
    "    GPS = db.collection(u'GPS').get()\n",
    "    GPS = [doc.to_dict() for doc in GPS]\n",
    "    GPS = pd.DataFrame(GPS)\n",
    "    \n",
    "    hobli_choice = \"Gulbarga\" #choose\n",
    "    new_db = pd.merge(Centre[Centre.hobli_name == hobli_choice],machine_table,on=['machine_id'],how='inner')\n",
    "    print(new_db)\n",
    "    new_db.hobli_name.value_counts().plot.bar()\n",
    "    plt.ylabel(\"number of machines\")\n",
    "    plt.xlabel(\"Machines\")\n",
    "    #plt.show()\n",
    "    plt.savefig(\"mech_wise_mech_freq.png\")\n",
    "    return \"Done\""
   ]
  },
  {
   "cell_type": "code",
   "execution_count": 4,
   "metadata": {},
   "outputs": [],
   "source": [
    "@app.route('/statehead_analysis',methods = ['GET'])\n",
    "def func1():\n",
    "    '''\n",
    "    query the database and get all the tables\n",
    "    district wise machines being used and taluk wise machines being used (count)\n",
    "    also the machines not being used \n",
    "    \n",
    "    gps tracking of the individual machines\n",
    "    '''\n",
    "    machine_table = db.collection(u'machine').get()\n",
    "    machine_table = [doc.to_dict() for doc in machine_table]\n",
    "    machine_table = pd.DataFrame(machine_table)\n",
    "    #machine_table = pd.DataFrame({\"Mech_id\":[1,2,3,4,5,6],\"Description\":[\"A\",\"B\",\"C\",\"D\",\"E\",\"E\"]})\n",
    "   \n",
    "    State = db.collection(u'state').get()\n",
    "    State = [doc.to_dict() for doc in State]\n",
    "    State = pd.DataFrame(State)\n",
    "    #State = pd.DataFrame({\"State_id\":[1,1,2,2],\"Centre_id\":[5,6,7,8],\"State_name\":[\"A\",\"A\",\"B\",\"B\"]})\n",
    "    \n",
    "    Centre = db.collection(u'hobli').get()\n",
    "    Centre = [doc.to_dict() for doc in Centre]\n",
    "    Centre = pd.DataFrame(Centre)\n",
    "\n",
    "    #Centre = pd.DataFrame({\"Centre_id\":[5,6,7,8,8,8],\"Centre\":[\"AA\",\"BB\",\"CC\",\"DD\",\"DD\",\"DD\"],\"Mech_id\":[1,2,3,4,5,6],\"Status\":['U','N','U','N','U','N']})\n",
    "    \n",
    "    machines = pd.merge(Centre,machine_table,on=['machine_id'],how='inner')\n",
    "    \n",
    "    GPS = db.collection(u'GPS').get()\n",
    "    GPS = [doc.to_dict() for doc in GPS]\n",
    "    GPS = pd.DataFrame(GPS)\n",
    "\n",
    "    #GPS = pd.DataFrame({\"id\":[x for x in range(5)],\"Mech_id\":[1,2,3,4,5],\"Lat\":[45,46,47,48,49],\"Long\":[45,46,47,48,49]})\n",
    "    \n",
    "    state_choice = \"Karnataka\"\n",
    "    new_state = State[State.state_name == state_choice]\n",
    "    new_db = pd.merge(new_state,Centre,on=[\"centre_id\"],how = 'inner')\n",
    "    #print(new_db)\n",
    "    new_db.hobli_name.value_counts().plot.bar()\n",
    "    plt.ylabel(\"Number of machines\")\n",
    "    plt.xlabel(\"Centers\")\n",
    "    #plt.save_fig(\"centre_wise_mech_freq.png\")\n",
    "    plt.savefig(\"State_wise_mech_freq.png\")\n",
    "    \n",
    "    new_state = State[State.state_name == state_choice]\n",
    "    new_db = pd.merge(new_state,Centre,on=[\"centre_id\"],how = 'inner')\n",
    "    new_db = pd.merge(new_db,machine_table,on=[\"machine_id\"],how='inner')\n",
    "    #print(new_db)\n",
    "    new_db.machine_name.value_counts().plot.bar()\n",
    "    plt.xlabel(\"State : \"+state_choice)\n",
    "    plt.ylabel(\"frequency\")\n",
    "    plt.savefig(\"State_wise_mech_freq.png\")\n",
    "    print(\"swmf\")\n",
    "    '''unused = new_db[new_db.status == 'U']\n",
    "    used = new_db[new_db.status == 'N']\n",
    "    unused.machine_name.value_counts().plot.bar()\n",
    "    plt.xlabel(\"machines\")\n",
    "    plt.ylabel(\"count\")\n",
    "    plt.savefig(\"unused_stats.png\")\n",
    "    \n",
    "    used.machine_name.value_counts().plot.bar()\n",
    "    plt.xlabel(\"machines\")\n",
    "    plt.ylabel(\"count\")\n",
    "    plt.savefig(\"used_stats.png\")\n",
    "    '''\n",
    "    latitudes = GPS.lat.tolist()#[34.0522 for x in range(500)]#GPS[\"Lat\"]\n",
    "    longitudes = GPS.long.tolist()#[-118.2437 for x in range(500)]#GPS[\"Long\"]\n",
    "    gmap = gmplot.GoogleMapPlotter(latitudes[0], longitudes[0], 100)\n",
    "    # Overlay our datapoints onto the map\n",
    "    gmap.heatmap(latitudes, longitudes)\n",
    "    gmap.draw(\"my_heatmap.html\")\n",
    "    return \"Done\""
   ]
  },
  {
   "cell_type": "code",
   "execution_count": null,
   "metadata": {},
   "outputs": [
    {
     "name": "stderr",
     "output_type": "stream",
     "text": [
      " * Running on http://127.0.0.1:5000/ (Press CTRL+C to quit)\n",
      "127.0.0.1 - - [08/Jul/2018 01:23:58] \"GET /request_analysis HTTP/1.1\" 200 -\n"
     ]
    },
    {
     "name": "stdout",
     "output_type": "stream",
     "text": [
      "   centre_id hobli_name  machine_id status   machine_name\n",
      "0         41   Gulbarga          21    'U'  Diesel_Engine\n"
     ]
    }
   ],
   "source": [
    "app.run()"
   ]
  },
  {
   "cell_type": "code",
   "execution_count": null,
   "metadata": {},
   "outputs": [],
   "source": [
    "GPS = db.collection(u'GPS').get()\n",
    "GPS = [doc.to_dict() for doc in GPS]\n",
    "GPS = pd.DataFrame(GPS)"
   ]
  },
  {
   "cell_type": "code",
   "execution_count": null,
   "metadata": {},
   "outputs": [],
   "source": [
    "GPS"
   ]
  },
  {
   "cell_type": "code",
   "execution_count": null,
   "metadata": {},
   "outputs": [],
   "source": [
    "lat = GPS.lat.tolist()\n",
    "lat"
   ]
  },
  {
   "cell_type": "code",
   "execution_count": null,
   "metadata": {},
   "outputs": [],
   "source": [
    "GPS.long.tolist()"
   ]
  },
  {
   "cell_type": "code",
   "execution_count": null,
   "metadata": {},
   "outputs": [],
   "source": []
  }
 ],
 "metadata": {
  "kernelspec": {
   "display_name": "Python 3",
   "language": "python",
   "name": "python3"
  },
  "language_info": {
   "codemirror_mode": {
    "name": "ipython",
    "version": 3
   },
   "file_extension": ".py",
   "mimetype": "text/x-python",
   "name": "python",
   "nbconvert_exporter": "python",
   "pygments_lexer": "ipython3",
   "version": "3.6.5"
  }
 },
 "nbformat": 4,
 "nbformat_minor": 2
}
